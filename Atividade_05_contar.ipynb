{
  "nbformat": 4,
  "nbformat_minor": 0,
  "metadata": {
    "colab": {
      "provenance": [],
      "authorship_tag": "ABX9TyMMX+AO7uNYt/mVHMvyUncE",
      "include_colab_link": true
    },
    "kernelspec": {
      "name": "python3",
      "display_name": "Python 3"
    },
    "language_info": {
      "name": "python"
    }
  },
  "cells": [
    {
      "cell_type": "markdown",
      "metadata": {
        "id": "view-in-github",
        "colab_type": "text"
      },
      "source": [
        "<a href=\"https://colab.research.google.com/github/laizadmscn/https-github.com-laizadmscn-2024.1-Algoritmos-e-Estruturas-de-Dados-DeizeLaiza/blob/main/Atividade_05_contar.ipynb\" target=\"_parent\"><img src=\"https://colab.research.google.com/assets/colab-badge.svg\" alt=\"Open In Colab\"/></a>"
      ]
    },
    {
      "cell_type": "code",
      "execution_count": 1,
      "metadata": {
        "id": "uXxMBg-nyE8n",
        "colab": {
          "base_uri": "https://localhost:8080/"
        },
        "outputId": "5ba994e9-1c73-48d2-a17f-694f23500480"
      },
      "outputs": [
        {
          "output_type": "stream",
          "name": "stdout",
          "text": [
            "{'b': 1, 'a': 3, 'n': 2}\n"
          ]
        }
      ],
      "source": [
        "def contar_caracteres(palavra):\n",
        "  caracteres = {}\n",
        "  for letra in palavra:\n",
        "    if letra in caracteres:\n",
        "      caracteres[letra] += 1\n",
        "    else:\n",
        "      caracteres[letra] = 1\n",
        "  return caracteres\n",
        "\n",
        "\n",
        "print(contar_caracteres(\"banana\")) # {'b': 1, 'a': 3, 'n': 2}"
      ]
    }
  ]
}