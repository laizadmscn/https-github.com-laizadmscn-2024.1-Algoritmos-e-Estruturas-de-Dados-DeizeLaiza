{
  "nbformat": 4,
  "nbformat_minor": 0,
  "metadata": {
    "colab": {
      "provenance": [],
      "authorship_tag": "ABX9TyNa30kyfZLFyHAyM0XKeLWI",
      "include_colab_link": true
    },
    "kernelspec": {
      "name": "python3",
      "display_name": "Python 3"
    },
    "language_info": {
      "name": "python"
    }
  },
  "cells": [
    {
      "cell_type": "markdown",
      "metadata": {
        "id": "view-in-github",
        "colab_type": "text"
      },
      "source": [
        "<a href=\"https://colab.research.google.com/github/laizadmscn/https-github.com-laizadmscn-2024.1-Algoritmos-e-Estruturas-de-Dados-DeizeLaiza/blob/main/Atividade_05_palindromo.ipynb\" target=\"_parent\"><img src=\"https://colab.research.google.com/assets/colab-badge.svg\" alt=\"Open In Colab\"/></a>"
      ]
    },
    {
      "cell_type": "code",
      "execution_count": null,
      "metadata": {
        "id": "yjxMBnxnf5nv",
        "colab": {
          "base_uri": "https://localhost:8080/"
        },
        "outputId": "7f19e47c-43ae-4031-fb8c-82fb9460b086"
      },
      "outputs": [
        {
          "output_type": "stream",
          "name": "stdout",
          "text": [
            "True\n",
            "False\n"
          ]
        }
      ],
      "source": [
        "def eh_palindromo(palavra):\n",
        "  palavra = palavra.lower().replace(\" \", \"\")\n",
        "  if palavra == palavra[::-1]:\n",
        "    return True\n",
        "  else:\n",
        "    return False\n",
        "\n",
        "print(eh_palindromo(\"ana\"))\n",
        "print(eh_palindromo(\"Python\"))"
      ]
    }
  ]
}