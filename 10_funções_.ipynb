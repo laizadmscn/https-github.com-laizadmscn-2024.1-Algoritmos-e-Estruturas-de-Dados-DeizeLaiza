{
  "nbformat": 4,
  "nbformat_minor": 0,
  "metadata": {
    "colab": {
      "provenance": [],
      "authorship_tag": "ABX9TyPhs0b7gn+3+VRhKoaSyCkN",
      "include_colab_link": true
    },
    "kernelspec": {
      "name": "python3",
      "display_name": "Python 3"
    },
    "language_info": {
      "name": "python"
    }
  },
  "cells": [
    {
      "cell_type": "markdown",
      "metadata": {
        "id": "view-in-github",
        "colab_type": "text"
      },
      "source": [
        "<a href=\"https://colab.research.google.com/github/laizadmscn/https-github.com-laizadmscn-2024.1-Algoritmos-e-Estruturas-de-Dados-DeizeLaiza/blob/main/10_fun%C3%A7%C3%B5es_.ipynb\" target=\"_parent\"><img src=\"https://colab.research.google.com/assets/colab-badge.svg\" alt=\"Open In Colab\"/></a>"
      ]
    },
    {
      "cell_type": "code",
      "execution_count": 1,
      "metadata": {
        "colab": {
          "base_uri": "https://localhost:8080/"
        },
        "id": "ON4eV-usn7i_",
        "outputId": "eee06396-2c0e-4872-c2d0-7a039cf2d70e"
      },
      "outputs": [
        {
          "output_type": "stream",
          "name": "stdout",
          "text": [
            "True\n",
            "False\n"
          ]
        }
      ],
      "source": [
        "#função de retorno par\n",
        "def epar(num):\n",
        "    if num % 2 == 0:\n",
        "        return True\n",
        "    else:\n",
        "        return False\n",
        "\n",
        "print(epar(4))\n",
        "print(epar(3))"
      ]
    },
    {
      "cell_type": "code",
      "source": [
        "#funcção para verificar se um número é primo\n",
        "def primo(num):\n",
        "    for i in range(2, num):\n",
        "        if num % i == 0:\n",
        "            return False\n",
        "    return True\n",
        "\n",
        "#print(primo(4))\n",
        "#print(primo(5))\n",
        "valor = int(input('Digite o número inteiro para verificar se é primo:'))\n",
        "if primo(valor):\n",
        "  print('O número é primo')\n",
        "else:\n",
        "  print('O número não é primo')"
      ],
      "metadata": {
        "colab": {
          "base_uri": "https://localhost:8080/"
        },
        "id": "YPNZlp37n_iX",
        "outputId": "16b778b4-fbaf-4a67-f76a-bd09edce027f"
      },
      "execution_count": 2,
      "outputs": [
        {
          "output_type": "stream",
          "name": "stdout",
          "text": [
            "Digite o número inteiro para verificar se é primo:12\n",
            "O número não é primo\n"
          ]
        }
      ]
    },
    {
      "cell_type": "code",
      "source": [
        "#implementar uma função para calcular equações de segundo grau, utilizando a fórmula de Baskara\n",
        "#ax² + bx + c = 0\n",
        "def chitaozinho(a, b, c):\n",
        "  delta = b**2 - 4*a*c\n",
        "  if delta < 0:\n",
        "    print('A equação não possui raízes reais')\n",
        "  elif delta == 0:\n",
        "    x = -b/(2*a)\n",
        "    print('A equação possui apenas uma raiz real:', x)\n",
        "  else:\n",
        "    x1 = (-b + delta**0.5)/(2*a)\n",
        "    x2 = (-b - delta**0.5)/(2*a)\n",
        "    print('A equação possui duas raízes reais:', x1, 'e', x2)\n",
        "\n",
        "a = float(input('Digite o valor de a:'))\n",
        "b = float(input('Digite o valor de b:'))\n",
        "c = float(input('Digite o valor de c:'))\n",
        "\n",
        "chitaozinho(a, b, c)"
      ],
      "metadata": {
        "id": "GTc5Y8z1oDFu"
      },
      "execution_count": null,
      "outputs": []
    },
    {
      "cell_type": "code",
      "source": [
        "#implementar uma função para calcular equações de segundo grau, utilizando a fórmula de Baskara\n",
        "#ax² + bx + c = 0\n",
        "def chitaozinho(a, b, c):\n",
        "  delta = b**2 - 4*a*c\n",
        "  chitaozinho_raiz(delta)\n",
        "\n",
        "#desacomplamento da função da raiz\n",
        "def chitaozinho_raiz(delta):\n",
        "  if delta < 0:\n",
        "    print('A equação não possui raízes reais')\n",
        "  elif delta == 0:\n",
        "    x = -b/(2*a)\n",
        "    print('A equação possui apenas uma raiz real:', x)\n",
        "  else:\n",
        "    x1 = (-b + delta**0.5)/(2*a)\n",
        "    x2 = (-b - delta**0.5)/(2*a)\n",
        "    print('A equação possui duas raízes reais:', x1, 'e', x2)\n",
        "\n",
        "a = float(input('Digite o valor de a:'))\n",
        "b = float(input('Digite o valor de b:'))\n",
        "c = float(input('Digite o valor de c:'))\n",
        "\n",
        "chitaozinho(a, b, c)"
      ],
      "metadata": {
        "colab": {
          "base_uri": "https://localhost:8080/"
        },
        "id": "D56cYhwdoD-a",
        "outputId": "4abac214-8606-4bc4-af86-a5478c76596d"
      },
      "execution_count": 3,
      "outputs": [
        {
          "output_type": "stream",
          "name": "stdout",
          "text": [
            "Digite o valor de a:4\n",
            "Digite o valor de b:2\n",
            "Digite o valor de c:0\n",
            "A equação possui duas raízes reais: 0.0 e -0.5\n"
          ]
        }
      ]
    },
    {
      "cell_type": "code",
      "source": [
        "#função de Fibbonaci\n",
        "def fibbonaci(n):\n",
        "  seq = [1,1]\n",
        "  for i in range(2,n):\n",
        "    seq.append(seq[i-1]+seq[i-2])\n",
        "  return seq\n",
        "print(fibbonaci(12))"
      ],
      "metadata": {
        "colab": {
          "base_uri": "https://localhost:8080/"
        },
        "id": "BH2lBWKyoOoo",
        "outputId": "751bd319-1fd2-41ca-e9a8-a233d7452f2e"
      },
      "execution_count": 4,
      "outputs": [
        {
          "output_type": "stream",
          "name": "stdout",
          "text": [
            "[1, 1, 2, 3, 5, 8, 13, 21, 34, 55, 89, 144]\n"
          ]
        }
      ]
    }
  ]
}