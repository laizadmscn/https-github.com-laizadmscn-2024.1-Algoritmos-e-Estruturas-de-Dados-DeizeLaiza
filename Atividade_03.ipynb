{
  "cells": [
    {
      "cell_type": "markdown",
      "metadata": {
        "id": "view-in-github",
        "colab_type": "text"
      },
      "source": [
        "<a href=\"https://colab.research.google.com/github/laizadmscn/https-github.com-laizadmscn-2024.1-Algoritmos-e-Estruturas-de-Dados-DeizeLaiza/blob/main/Atividade_03.ipynb\" target=\"_parent\"><img src=\"https://colab.research.google.com/assets/colab-badge.svg\" alt=\"Open In Colab\"/></a>"
      ]
    },
    {
      "cell_type": "markdown",
      "metadata": {
        "id": "RgPg4V33UwX3"
      },
      "source": [
        "1. Calculadora de IMC"
      ]
    },
    {
      "cell_type": "code",
      "execution_count": null,
      "metadata": {
        "colab": {
          "base_uri": "https://localhost:8080/"
        },
        "id": "sWsZPhoCU3jb",
        "outputId": "4db3851c-515b-402c-dc4f-dc6e767339f2"
      },
      "outputs": [
        {
          "name": "stdout",
          "output_type": "stream",
          "text": [
            "Calculadora de IMC\n",
            "Digite o seu peso:45\n",
            "Digite sua altura:1.70\n",
            "O seu IMC é: 15.57\n",
            "Você está com baixo peso\n"
          ]
        }
      ],
      "source": [
        "print(\"Calculadora de IMC\")\n",
        "#Float, tipagem explícita, para garantir número fracionário\n",
        "p = float(input(\"Digite o seu peso:\"))\n",
        "a = float(input(\"Digite sua altura:\"))\n",
        "\n",
        "#Calculo do IMC\n",
        "IMC = (p)/(a * a)\n",
        "\n",
        "#Impressão do IMC\n",
        "print(f\"O seu IMC é: {IMC:.2f}\")\n",
        "\n",
        "#Apresentar se o resultado está em baixo peso, peso normal, sobrepeso ou obesidade\n",
        "if IMC <= 18.50:\n",
        "    print(\"Você está com baixo peso\")\n",
        "elif 18.50 < IMC <= 24.9:\n",
        "    print(\"Você está com peso normal\")\n",
        "elif 25.0 <= IMC <= 29.9:\n",
        "    print(\"Você está com sobrepeso\")\n",
        "else:\n",
        "    print(\"Você está com obesidade\")"
      ]
    },
    {
      "cell_type": "markdown",
      "metadata": {
        "id": "07d-bUTQVCHx"
      },
      "source": [
        "2. Verificador de número par ou ímpar"
      ]
    },
    {
      "cell_type": "code",
      "execution_count": null,
      "metadata": {
        "colab": {
          "base_uri": "https://localhost:8080/"
        },
        "id": "lKJMz02uVKun",
        "outputId": "82657709-7758-474d-857c-4ff5bd728e4c"
      },
      "outputs": [
        {
          "name": "stdout",
          "output_type": "stream",
          "text": [
            "Verificador de número par ou ímpar\n",
            "Digite um número inteiro:4\n",
            "Número par\n"
          ]
        }
      ],
      "source": [
        "print(\"Verificador de número par ou ímpar\")\n",
        "#int, tipagem explícita, para garantir número inteiro\n",
        "n = int(input(\"Digite um número inteiro:\"))\n",
        "\n",
        "#Calculando se n é divisivel por 2\n",
        "c = n % 2\n",
        "\n",
        "#Apresentar se o número é par ou ímpar\n",
        "if c == 0:\n",
        "  print(\"Número par\")\n",
        "else:\n",
        "    print(\"Número ímpar\")"
      ]
    },
    {
      "cell_type": "markdown",
      "metadata": {
        "id": "USDjqXwrgKNS"
      },
      "source": [
        "3. Conversor de temperatura"
      ]
    },
    {
      "cell_type": "code",
      "execution_count": null,
      "metadata": {
        "colab": {
          "base_uri": "https://localhost:8080/"
        },
        "id": "Y2bi9pZ2hCtV",
        "outputId": "3fe91b96-80eb-46c7-cfca-8da88a006680"
      },
      "outputs": [
        {
          "name": "stdout",
          "output_type": "stream",
          "text": [
            "Conversor de temperatura\n",
            "Digite uma temperatura em Celsius35\n",
            "Sua temperatura em fahrenheit é: 95.0\n"
          ]
        }
      ],
      "source": [
        "print(\"Conversor de temperatura\")\n",
        "#Float, tipagem explícita, para garantir número fracionário\n",
        "C = float(input(\"Digite uma temperatura em Celsius\"))\n",
        "\n",
        "#Convertendo celsius para fahrenheit\n",
        "F = (C * 9/5) + 32\n",
        "\n",
        "#Apresentar resultado\n",
        "print(\"Sua temperatura em fahrenheit é:\", F)"
      ]
    },
    {
      "cell_type": "markdown",
      "metadata": {
        "id": "6fPgocaBkmzq"
      },
      "source": [
        "4. Tabuada de multiplicação"
      ]
    },
    {
      "cell_type": "code",
      "execution_count": null,
      "metadata": {
        "colab": {
          "base_uri": "https://localhost:8080/"
        },
        "id": "1NIQHnsbnbUB",
        "outputId": "5d951e7b-7415-4641-d1d2-9f0160361a5d"
      },
      "outputs": [
        {
          "name": "stdout",
          "output_type": "stream",
          "text": [
            "Tabuada de multiplicação\n",
            "Digite um numéro inteiro 2\n",
            "2 x 1 = 2\n",
            "2 x 2 = 4\n",
            "2 x 3 = 6\n",
            "2 x 4 = 8\n",
            "2 x 5 = 10\n",
            "2 x 6 = 12\n",
            "2 x 7 = 14\n",
            "2 x 8 = 16\n",
            "2 x 9 = 18\n",
            "2 x 10 = 20\n"
          ]
        }
      ],
      "source": [
        "print(\"Tabuada de multiplicação\")\n",
        "#Inte, tipagem explícita, para garantir número inteiro\n",
        "n = int(input(\"Digite um numéro inteiro \"))\n",
        "\n",
        "#Tabuada do número fornecido\n",
        "for i in range(1, 11):\n",
        "    resultado = n * i\n",
        "    print(f\"{n} x {i} = {resultado}\")"
      ]
    },
    {
      "cell_type": "markdown",
      "metadata": {
        "id": "JkM6moBwcM-Q"
      },
      "source": [
        "5. Cálculo da média ponderada"
      ]
    },
    {
      "cell_type": "code",
      "execution_count": 2,
      "metadata": {
        "colab": {
          "base_uri": "https://localhost:8080/"
        },
        "id": "pJKr5J7CfVim",
        "outputId": "c2d0d6bf-3712-4d9f-dc65-ff1dacdc4845"
      },
      "outputs": [
        {
          "output_type": "stream",
          "name": "stdout",
          "text": [
            "Calculadora de média ponderada\n",
            "Digite nota 1:10\n",
            "Digite peso da nota 1:2\n",
            "Digite nota 2:8\n",
            "Digite peso da nota 2:3\n",
            "Digite nota 3:7\n",
            "Digite peso da nota 3:4\n",
            "A média ponderada é: 8.0\n"
          ]
        }
      ],
      "source": [
        "print(\"Calculadora de média ponderada\")\n",
        "n1 = float(input(\"Digite nota 1:\"))\n",
        "peso1 = float(input(\"Digite peso da nota 1:\"))\n",
        "\n",
        "n2 = float(input(\"Digite nota 2:\"))\n",
        "peso2 = float(input(\"Digite peso da nota 2:\"))\n",
        "\n",
        "n3 = float(input(\"Digite nota 3:\"))\n",
        "peso3 = float(input(\"Digite peso da nota 3:\"))\n",
        "\n",
        "#Calculando média ponderada\n",
        "media_ponderada = (n1 * peso1 + n2 * peso2 + n3 * peso3) / (peso1 + peso2 + peso3)\n",
        "\n",
        "#Apresentação do resultado\n",
        "print(\"A média ponderada é:\", media_ponderada)"
      ]
    },
    {
      "cell_type": "markdown",
      "source": [
        "6. Verificador de Ano Bissexto"
      ],
      "metadata": {
        "id": "OdjQzRaFoSFT"
      }
    },
    {
      "cell_type": "code",
      "source": [
        "print(\"Verificador de ano bissexto\")\n",
        "#Inte, tipagem explícita, para garantir número inteiro\n",
        "ano = int(input(\"Digite um ano: \"))\n",
        "\n",
        "#Calculando se o ano é bissexto\n",
        "if ano % 4 == 0:\n",
        "  if ano % 100 == 0:\n",
        "    if ano % 400 == 0:\n",
        "      print(ano, \"É um ano bissexto\")\n",
        "    else:\n",
        "      print(ano, \"Não é um ano bissexto\")\n",
        "  else:\n",
        "      print(ano, \"É um ano bissexto\")\n",
        "else:\n",
        "      print(ano, \"Não é um ano bissexto\")"
      ],
      "metadata": {
        "colab": {
          "base_uri": "https://localhost:8080/"
        },
        "id": "O685Wqu4oXNU",
        "outputId": "f6258589-678b-4a0e-f3ce-27aab18e057c"
      },
      "execution_count": 3,
      "outputs": [
        {
          "output_type": "stream",
          "name": "stdout",
          "text": [
            "Verificador de ano bissexto\n",
            "Digite um ano: 2003\n",
            "2003 Não é um ano bissexto\n"
          ]
        }
      ]
    },
    {
      "cell_type": "markdown",
      "source": [
        "7. Contador de Vogais em uma String:"
      ],
      "metadata": {
        "id": "YuZ6syGcoyVW"
      }
    },
    {
      "cell_type": "code",
      "source": [
        "print(\"Contador de vogais de uma string\")\n",
        "string = input(\"Digite uma String: \")\n",
        "vogais = [\"a\", \"e\", \"i\", \"o\", \"u\"]\n",
        "contagem = 0\n",
        "\n",
        "for caractere in string:\n",
        "  if caractere.lower() in vogais:\n",
        "    contagem +=1\n",
        "\n",
        "print(\"O número e vogais na String é: \", contagem)"
      ],
      "metadata": {
        "colab": {
          "base_uri": "https://localhost:8080/"
        },
        "id": "WB7Fl0eqo3rb",
        "outputId": "b5dc4f5c-bead-427e-cd52-44a401a86fed"
      },
      "execution_count": 4,
      "outputs": [
        {
          "output_type": "stream",
          "name": "stdout",
          "text": [
            "Contador de vogais de uma string\n",
            "Digite uma String: palavra\n",
            "O número e vogais na String é:  3\n"
          ]
        }
      ]
    },
    {
      "cell_type": "markdown",
      "source": [
        "8. Calculadora de Fatorial"
      ],
      "metadata": {
        "id": "QYbJHfbBpZzy"
      }
    },
    {
      "cell_type": "code",
      "source": [
        "print(\"Calculadora de fatorial\")\n",
        "#Inte, tipagem explícita, para garantir número inteiro\n",
        "num = int (input(\"Digite um número: \"))\n",
        "\n",
        "if num < 0:\n",
        "  print(\"O número deve ser positivo\")\n",
        "else:\n",
        "  resultado = 1\n",
        "  for r in range(1, num + 1):\n",
        "    resultado *= r\n",
        "  print(\"O fatorial de\", num, \"É\", resultado)"
      ],
      "metadata": {
        "colab": {
          "base_uri": "https://localhost:8080/"
        },
        "id": "nnT72D2tprnV",
        "outputId": "45afa817-ab3f-4988-dc68-781983506ad0"
      },
      "execution_count": 6,
      "outputs": [
        {
          "output_type": "stream",
          "name": "stdout",
          "text": [
            "Calculadora de fatorial\n",
            "Digite um número: 5\n",
            "O fatorial de 5 É 120\n"
          ]
        }
      ]
    },
    {
      "cell_type": "markdown",
      "source": [
        "9. Soma dos Números Pares em um Intervalo"
      ],
      "metadata": {
        "id": "t2yJVaPPqNmL"
      }
    },
    {
      "cell_type": "code",
      "source": [
        "print(\"Soma dos números pares em um intervalo\")\n",
        "inicio = int(input(\"Digite o número do inicial do intervalo: \"))\n",
        "fim = int(input(\"Digite o número final do intervalo: \"))\n",
        "print(\"LEMBRE-SE VOCÊ DEFINIU O INTERVALO\")\n",
        "\n",
        "soma_dos_pares = 0\n",
        "for num in range(inicio, fim + 1 ):\n",
        "  if num % 2 == 0:\n",
        "    soma_dos_pares += num\n",
        "print(\"A soma de todos os números pares dentro do intervalo é:\", soma_dos_pares)"
      ],
      "metadata": {
        "colab": {
          "base_uri": "https://localhost:8080/"
        },
        "id": "aEISxVYCqPxn",
        "outputId": "2afffd93-f46f-4e47-b35d-70c3be8dc254"
      },
      "execution_count": 7,
      "outputs": [
        {
          "output_type": "stream",
          "name": "stdout",
          "text": [
            "Soma dos números pares em um intervalo\n",
            "Digite o número do inicial do intervalo: 5\n",
            "Digite o número final do intervalo: 8\n",
            "LEMBRE-SE VOCÊ DEFINIU O INTERVALO\n",
            "A soma de todos os números pares dentro do intervalo é: 14\n"
          ]
        }
      ]
    },
    {
      "cell_type": "markdown",
      "source": [
        "10. Verificador de Número Primo"
      ],
      "metadata": {
        "id": "q3evWrFFqlju"
      }
    },
    {
      "cell_type": "code",
      "source": [
        "print(\"Verificador de número primo\")\n",
        "import math\n",
        "\n",
        "num = int(input(\"Digite um número positivo: \"))\n",
        "\n",
        "if num <= 1:\n",
        "  print(\"O número não é primo: \")\n",
        "else:\n",
        "  e_primo = True\n",
        "  for r in range(2, int(math.sqrt(num))+ 1):\n",
        "    if num % r == 0:\n",
        "      e_primo = False\n",
        "      break\n",
        "  if e_primo:\n",
        "    print(\"O número é primo\")\n",
        "  else:\n",
        "    print(\"O número não é primo\")"
      ],
      "metadata": {
        "colab": {
          "base_uri": "https://localhost:8080/"
        },
        "id": "j8C3PD2kqnR9",
        "outputId": "167c07bf-fb8f-44e2-80f7-b21e4227376e"
      },
      "execution_count": 9,
      "outputs": [
        {
          "output_type": "stream",
          "name": "stdout",
          "text": [
            "Verificador de número primo\n",
            "Digite um número positivo: 11\n",
            "O número é primo\n"
          ]
        }
      ]
    }
  ],
  "metadata": {
    "colab": {
      "provenance": [],
      "authorship_tag": "ABX9TyM9JdozVoIPjG1YrdLF8iG8",
      "include_colab_link": true
    },
    "kernelspec": {
      "display_name": "Python 3",
      "name": "python3"
    },
    "language_info": {
      "name": "python"
    }
  },
  "nbformat": 4,
  "nbformat_minor": 0
}