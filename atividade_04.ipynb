{
  "nbformat": 4,
  "nbformat_minor": 0,
  "metadata": {
    "colab": {
      "provenance": [],
      "authorship_tag": "ABX9TyOQF+O4wBtCettQn9L9lfai",
      "include_colab_link": true
    },
    "kernelspec": {
      "name": "python3",
      "display_name": "Python 3"
    },
    "language_info": {
      "name": "python"
    }
  },
  "cells": [
    {
      "cell_type": "markdown",
      "metadata": {
        "id": "view-in-github",
        "colab_type": "text"
      },
      "source": [
        "<a href=\"https://colab.research.google.com/github/laizadmscn/https-github.com-laizadmscn-2024.1-Algoritmos-e-Estruturas-de-Dados-DeizeLaiza/blob/main/atividade_04.ipynb\" target=\"_parent\"><img src=\"https://colab.research.google.com/assets/colab-badge.svg\" alt=\"Open In Colab\"/></a>"
      ]
    },
    {
      "cell_type": "markdown",
      "source": [
        "1.\n",
        "Escreva um programa que imprima \"Olá, Mundo!\" na tela."
      ],
      "metadata": {
        "id": "iP7dfzH3Qmeq"
      }
    },
    {
      "cell_type": "code",
      "source": [
        "#Imprime \"Olá, Mundo!\" na tela\n",
        "print(\"Olá, Mundo!\")"
      ],
      "metadata": {
        "colab": {
          "base_uri": "https://localhost:8080/"
        },
        "id": "0vWiJlJzQrfw",
        "outputId": "1909f32a-4b46-4634-fb22-728100521d8b"
      },
      "execution_count": 1,
      "outputs": [
        {
          "output_type": "stream",
          "name": "stdout",
          "text": [
            "Olá, Mundo!\n"
          ]
        }
      ]
    },
    {
      "cell_type": "markdown",
      "source": [
        "2. Crie um programa que leia três notas de um aluno e calcule a média final."
      ],
      "metadata": {
        "id": "00g-pXZCRDCR"
      }
    },
    {
      "cell_type": "code",
      "source": [
        "print (\"Calculadora de média final\")\n",
        "#Imprime \"Calculadora de média final\"\n",
        "n1 = float (input (\"Digite a nota 1 \"))\n",
        "n2 = float (input (\"Digite a nota 2 \"))\n",
        "n3 = float (input (\"Digite a nota 3 \"))\n",
        "\n",
        "#calculo de média\n",
        "media = (n1 +  n2 + n3) / 3\n",
        "\n",
        "#impressao da media\n",
        "print (f\"A média final das notas é: {media:.2f}\")"
      ],
      "metadata": {
        "colab": {
          "base_uri": "https://localhost:8080/"
        },
        "id": "9OdggSWgRJe0",
        "outputId": "370025a9-a32e-47f1-9143-861003475ce9"
      },
      "execution_count": 3,
      "outputs": [
        {
          "output_type": "stream",
          "name": "stdout",
          "text": [
            "Calculadora de média final\n",
            "Digite a nota 1 80\n",
            "Digite a nota 2 90\n",
            "Digite a nota 3 40\n",
            "A média final das notas é: 70.00\n"
          ]
        }
      ]
    },
    {
      "cell_type": "markdown",
      "source": [
        "3. Escreva um programa que calcule a média de notas, permitindo a entrada repetida de notas até que o usuário indique que não deseja mais inserir."
      ],
      "metadata": {
        "id": "YaOhLE44R7Zo"
      }
    },
    {
      "cell_type": "code",
      "source": [
        "print (\"Calculadora de média de notas\")\n",
        "notas = []\n",
        "continuar = 'sim'\n",
        "\n",
        "while continuar == 'sim':\n",
        "    nota = float(input(\"Digite uma nota: \"))\n",
        "    notas.append(nota)\n",
        "\n",
        "    continuar = input(\"Deseja inserir outra nota? (sim ou não): \")\n",
        "\n",
        "    if continuar != 'sim' and continuar != 'não':\n",
        "        print(\"Opção inválida, por favor digite 'sim' para sim ou 'não' para não.\")\n",
        "        continuar = input(\"Deseja inserir outra nota? (sim ou não): \")\n",
        "\n",
        "if len(notas) > 0:\n",
        "    media = sum(notas) / len(notas)\n",
        "    print(f\"A média das notas é: {media:.2f}\")\n",
        "else:\n",
        "    print(\"Nenhuma nota foi inserida.\")\n"
      ],
      "metadata": {
        "colab": {
          "base_uri": "https://localhost:8080/"
        },
        "id": "qrp_t86eSC66",
        "outputId": "58aa26a9-0995-442d-b3cb-9d97e270763a"
      },
      "execution_count": 17,
      "outputs": [
        {
          "output_type": "stream",
          "name": "stdout",
          "text": [
            "Calculadora de média de notas\n",
            "Digite uma nota: 70\n",
            "Deseja inserir outra nota? (sim ou não): sim\n",
            "Digite uma nota: 80\n",
            "Deseja inserir outra nota? (sim ou não): sim\n",
            "Digite uma nota: 65\n",
            "Deseja inserir outra nota? (sim ou não): não\n",
            "A média das notas é: 71.67\n"
          ]
        }
      ]
    },
    {
      "cell_type": "markdown",
      "source": [
        "4. Crie um programa que leia três números e determine o maior deles."
      ],
      "metadata": {
        "id": "2oBeqyzKcQTg"
      }
    },
    {
      "cell_type": "code",
      "source": [
        "#'a','b' e 'c' númericas imprima a maior delas\n",
        "a=10\n",
        "b=20\n",
        "c=30\n",
        "\n",
        "if a < b:\n",
        "  if b < c:\n",
        "    print(c)\n",
        "  else:\n",
        "    print(b)\n",
        "else:\n",
        "  if a < c:\n",
        "    print(c)\n",
        "  else:\n",
        "    print(a)\n"
      ],
      "metadata": {
        "colab": {
          "base_uri": "https://localhost:8080/"
        },
        "id": "uFMcwXekcVCf",
        "outputId": "7d1f0ad9-b46d-4145-ba27-b044aeb0d77a"
      },
      "execution_count": 20,
      "outputs": [
        {
          "output_type": "stream",
          "name": "stdout",
          "text": [
            "30\n"
          ]
        }
      ]
    },
    {
      "cell_type": "markdown",
      "source": [
        "5. Desenvolva um programa que monitore a qualidade da água de um reservatório usando um loop while."
      ],
      "metadata": {
        "id": "bhq1EY1adMGC"
      }
    },
    {
      "cell_type": "code",
      "source": [
        "#Programa de monitoramento da qualidade da água de um reservatório\n",
        "print(\"Insira o nível de poluição para verificar se está dentro do padrão aceito.\")\n",
        "poluição = True\n",
        "#poluição = 1 #outro exemplo\n",
        "\n",
        "while poluição: #loop infinito // infinete loop\n",
        "  nivel_poluição = float(input(\"Digite o nível de poluição em mg/L: \"))\n",
        "  #verificando se o  0.2 > nivel_poluição < 2\n",
        "  if nivel_poluição < 0.2:\n",
        "    print(\"Atenção: O nível de poluição está aceitável\")\n",
        "  elif nivel_poluição > 2.0:\n",
        "    print(\"Atenção: o nível de cloro está acima do padrão aceitável.\")\n",
        "  else:\n",
        "    print(\"O nível do cloro está dentro dos padrões aceitáveis.\")\n",
        "poluição = False"
      ],
      "metadata": {
        "colab": {
          "base_uri": "https://localhost:8080/"
        },
        "id": "s2IhuVdCfrwv",
        "outputId": "09151d0d-4e91-488e-94e0-eef1d9ebd083"
      },
      "execution_count": null,
      "outputs": [
        {
          "output_type": "stream",
          "name": "stdout",
          "text": [
            "Insira o nível de poluição para verificar se está dentro do padrão aceito.\n"
          ]
        }
      ]
    },
    {
      "cell_type": "markdown",
      "source": [
        "\n",
        "6. Implemente um programa que utilize um loop while para calcular a soma dos números de 1 a 100."
      ],
      "metadata": {
        "id": "h29ROtU9hfYH"
      }
    },
    {
      "cell_type": "code",
      "source": [
        "# variáveis\n",
        "numero = 1\n",
        "soma = 0\n",
        "\n",
        "# Calculando a soma dos números de 1 a 100\n",
        "while numero <= 100:\n",
        "    soma += numero\n",
        "    numero += 1\n",
        "\n",
        "# Exibindo o resultado\n",
        "print(f\"A soma dos números de 1 a 100 é: {soma}\")"
      ],
      "metadata": {
        "colab": {
          "base_uri": "https://localhost:8080/"
        },
        "id": "bM04GXcPhr_S",
        "outputId": "e1cf8efc-943e-4177-80c5-958f4bb7900a"
      },
      "execution_count": 25,
      "outputs": [
        {
          "output_type": "stream",
          "name": "stdout",
          "text": [
            "A soma dos números de 1 a 100 é: 5050\n"
          ]
        }
      ]
    },
    {
      "cell_type": "markdown",
      "source": [
        "7. Escreva um programa que imprima todos os números ímpares de 1 a 50 usando um loop for."
      ],
      "metadata": {
        "id": "DV7FWDMPjeE1"
      }
    },
    {
      "cell_type": "code",
      "source": [
        "# Utilizando um loop for para imprimir números ímpares de 1 a 50\n",
        "for num in range(1, 51, 2):\n",
        "    print(num)"
      ],
      "metadata": {
        "id": "8B12eHuejjKD",
        "outputId": "39fe7fa9-9599-462d-bc71-a65fe5004c14",
        "colab": {
          "base_uri": "https://localhost:8080/"
        }
      },
      "execution_count": 26,
      "outputs": [
        {
          "output_type": "stream",
          "name": "stdout",
          "text": [
            "1\n",
            "3\n",
            "5\n",
            "7\n",
            "9\n",
            "11\n",
            "13\n",
            "15\n",
            "17\n",
            "19\n",
            "21\n",
            "23\n",
            "25\n",
            "27\n",
            "29\n",
            "31\n",
            "33\n",
            "35\n",
            "37\n",
            "39\n",
            "41\n",
            "43\n",
            "45\n",
            "47\n",
            "49\n"
          ]
        }
      ]
    },
    {
      "cell_type": "markdown",
      "source": [
        "8. Desenvolva um programa que utilize os objetos built-in do Python para realizar operações com listas e dicionários."
      ],
      "metadata": {
        "id": "OB1ueBGrmEFv"
      }
    },
    {
      "cell_type": "code",
      "source": [
        "minha_lista = [1, 2, 3, 4, 5]\n",
        "\n",
        "# Tamanho da lista\n",
        "tamanho_da_lista = len(minha_lista)\n",
        "print(\"Tamanho da lista:\", tamanho_da_lista)\n",
        "\n",
        "# Tipo de dado da lista\n",
        "tipo_da_lista = type(minha_lista)\n",
        "print(\"Tipo de dado da lista:\", tipo_da_lista)\n",
        "\n",
        "# Métodos disponíveis para a lista\n",
        "metodos_da_lista = dir(minha_lista)\n",
        "print(\"Métodos disponíveis para a lista:\", metodos_da_lista)\n"
      ],
      "metadata": {
        "id": "ASiFBkbTqL4p",
        "outputId": "03a7d4e5-1918-4f57-fa0a-dc3a21ff27b3",
        "colab": {
          "base_uri": "https://localhost:8080/"
        }
      },
      "execution_count": 28,
      "outputs": [
        {
          "output_type": "stream",
          "name": "stdout",
          "text": [
            "Tamanho da lista: 5\n",
            "Tipo de dado da lista: <class 'list'>\n",
            "Métodos disponíveis para a lista: ['__add__', '__class__', '__class_getitem__', '__contains__', '__delattr__', '__delitem__', '__dir__', '__doc__', '__eq__', '__format__', '__ge__', '__getattribute__', '__getitem__', '__gt__', '__hash__', '__iadd__', '__imul__', '__init__', '__init_subclass__', '__iter__', '__le__', '__len__', '__lt__', '__mul__', '__ne__', '__new__', '__reduce__', '__reduce_ex__', '__repr__', '__reversed__', '__rmul__', '__setattr__', '__setitem__', '__sizeof__', '__str__', '__subclasshook__', 'append', 'clear', 'copy', 'count', 'extend', 'index', 'insert', 'pop', 'remove', 'reverse', 'sort']\n"
          ]
        }
      ]
    }
  ]
}