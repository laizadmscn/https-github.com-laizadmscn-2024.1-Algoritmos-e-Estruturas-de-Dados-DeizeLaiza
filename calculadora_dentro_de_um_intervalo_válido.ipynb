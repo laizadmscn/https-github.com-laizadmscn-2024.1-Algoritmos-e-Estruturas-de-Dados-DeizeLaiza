{
  "nbformat": 4,
  "nbformat_minor": 0,
  "metadata": {
    "colab": {
      "provenance": [],
      "authorship_tag": "ABX9TyPotKWMtAv3W5jli1WrS0nr",
      "include_colab_link": true
    },
    "kernelspec": {
      "name": "python3",
      "display_name": "Python 3"
    },
    "language_info": {
      "name": "python"
    }
  },
  "cells": [
    {
      "cell_type": "markdown",
      "metadata": {
        "id": "view-in-github",
        "colab_type": "text"
      },
      "source": [
        "<a href=\"https://colab.research.google.com/github/laizadmscn/https-github.com-laizadmscn-2024.1-Algoritmos-e-Estruturas-de-Dados-DeizeLaiza/blob/main/calculadora_dentro_de_um_intervalo_v%C3%A1lido.ipynb\" target=\"_parent\"><img src=\"https://colab.research.google.com/assets/colab-badge.svg\" alt=\"Open In Colab\"/></a>"
      ]
    },
    {
      "cell_type": "code",
      "execution_count": 1,
      "metadata": {
        "colab": {
          "base_uri": "https://localhost:8080/"
        },
        "id": "FmC0LAAUEaxI",
        "outputId": "0979fbb8-677c-4ec2-f2c0-38484cc1e697"
      },
      "outputs": [
        {
          "output_type": "stream",
          "name": "stdout",
          "text": [
            "Calculadora de média ponderada do IFRN\n",
            "Digite a nota 1 (com peso 2): 12\n",
            "A nota deve estar dentro do intervalo de 0 a 10.\n",
            "Digite a nota 1 (com peso 2): 10\n",
            "Digite a nota 2 (com peso 3): 5\n",
            "A média ponderada das notas é: 7.00\n",
            "Aprovado\n"
          ]
        }
      ],
      "source": [
        "print(\"Calculadora de média ponderada do IFRN\")\n",
        "\n",
        "# Função para validar a nota dentro do intervalo de 0 a 10\n",
        "def validar_nota(nota):\n",
        "    if nota < 0 or nota > 10:\n",
        "        print(\"A nota deve estar dentro do intervalo de 0 a 10.\")\n",
        "        return False\n",
        "    return True\n",
        "\n",
        "#Float, tipagem explícita, para garantir número fracionário\n",
        "while True:\n",
        "    n1 = float(input(\"Digite a nota 1 (com peso 2): \"))\n",
        "    if validar_nota(n1):\n",
        "        break\n",
        "\n",
        "while True:\n",
        "    n2 = float(input(\"Digite a nota 2 (com peso 3): \"))\n",
        "    if validar_nota(n2):\n",
        "        break\n",
        "\n",
        "#calculo de media ponderada\n",
        "media = (n1 * 2 + n2 * 3) / 5\n",
        "\n",
        "#impressão da média\n",
        "print(f\"A média ponderada das notas é: {media:.2f}\")\n",
        "\n",
        "#apresentar se o aluno foi aprovado ou não\n",
        "if media >= 6:\n",
        "    print(\"Aprovado\")\n",
        "else:\n",
        "    if n1 >= 4 and n2 >= 4:\n",
        "        print(\"Prova final\")\n",
        "    else:\n",
        "        print(\"Reprovado\")\n"
      ]
    }
  ]
}