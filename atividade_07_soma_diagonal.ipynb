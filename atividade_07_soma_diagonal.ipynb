{
  "nbformat": 4,
  "nbformat_minor": 0,
  "metadata": {
    "colab": {
      "provenance": [],
      "authorship_tag": "ABX9TyPu7PCoMGITycvm1Cwq70oP",
      "include_colab_link": true
    },
    "kernelspec": {
      "name": "python3",
      "display_name": "Python 3"
    },
    "language_info": {
      "name": "python"
    }
  },
  "cells": [
    {
      "cell_type": "markdown",
      "metadata": {
        "id": "view-in-github",
        "colab_type": "text"
      },
      "source": [
        "<a href=\"https://colab.research.google.com/github/laizadmscn/https-github.com-laizadmscn-2024.1-Algoritmos-e-Estruturas-de-Dados-DeizeLaiza/blob/main/atividade_07_soma_diagonal.ipynb\" target=\"_parent\"><img src=\"https://colab.research.google.com/assets/colab-badge.svg\" alt=\"Open In Colab\"/></a>"
      ]
    },
    {
      "cell_type": "code",
      "execution_count": 3,
      "metadata": {
        "id": "cktHIVE64Qlu"
      },
      "outputs": [],
      "source": [
        "def soma_diagonal(matriz):\n",
        "    \"\"\"\n",
        "    Calcula a soma dos elementos da diagonal principal de uma matriz quadrada.\n",
        "\n",
        "    Args:\n",
        "    matriz (list of list of int): Matriz quadrada de números inteiros.\n",
        "\n",
        "    Returns:\n",
        "    int: Soma dos elementos da diagonal principal.\n",
        "    \"\"\"\n",
        "\n",
        "    soma = 0\n",
        "\n",
        "    for i in range(len(matriz)):\n",
        "        soma += matriz[i][i]\n",
        "\n",
        "    return soma\n"
      ]
    }
  ]
}