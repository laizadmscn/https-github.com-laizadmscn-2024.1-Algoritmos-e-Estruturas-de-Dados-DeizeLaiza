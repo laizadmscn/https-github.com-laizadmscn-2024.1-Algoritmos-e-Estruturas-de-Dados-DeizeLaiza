{
  "nbformat": 4,
  "nbformat_minor": 0,
  "metadata": {
    "colab": {
      "provenance": [],
      "authorship_tag": "ABX9TyNkpC06XYADCYtnYBVPSSUP",
      "include_colab_link": true
    },
    "kernelspec": {
      "name": "python3",
      "display_name": "Python 3"
    },
    "language_info": {
      "name": "python"
    }
  },
  "cells": [
    {
      "cell_type": "markdown",
      "metadata": {
        "id": "view-in-github",
        "colab_type": "text"
      },
      "source": [
        "<a href=\"https://colab.research.google.com/github/laizadmscn/https-github.com-laizadmscn-2024.1-Algoritmos-e-Estruturas-de-Dados-DeizeLaiza/blob/main/m%C3%A9dia_nota_ifrn_com_repeti%C3%A7%C3%A3o.ipynb\" target=\"_parent\"><img src=\"https://colab.research.google.com/assets/colab-badge.svg\" alt=\"Open In Colab\"/></a>"
      ]
    },
    {
      "cell_type": "code",
      "execution_count": 4,
      "metadata": {
        "colab": {
          "base_uri": "https://localhost:8080/"
        },
        "id": "9ehHazLThdCi",
        "outputId": "8b457e89-3242-48de-e5f2-de12f3763318"
      },
      "outputs": [
        {
          "output_type": "stream",
          "name": "stdout",
          "text": [
            "Calculadora de média ponderada do IFRN\n",
            "digite o número de alunos: 3\n",
            "Digite a nota 1 (com peso 2): 3\n",
            "Digite a nota 2 (com peso 3): 5\n",
            "\n",
            "aluno 1:\n",
            "A média ponderada das notas é: 4.20\n",
            "reprovado\n",
            "Digite a nota 1 (com peso 2): 4\n",
            "Digite a nota 2 (com peso 3): 6\n",
            "\n",
            "aluno 2:\n",
            "A média ponderada das notas é: 5.20\n",
            "prova final\n",
            "Digite a nota 1 (com peso 2): 5\n",
            "Digite a nota 2 (com peso 3): 8\n",
            "\n",
            "aluno 3:\n",
            "A média ponderada das notas é: 6.80\n",
            "aprovado\n"
          ]
        }
      ],
      "source": [
        "print(\"Calculadora de média ponderada do IFRN\")\n",
        "\n",
        "#perguntando, para quantos alunos, desejo calcular média\n",
        "num_alunos = int(input(\"digite o número de alunos: \"))\n",
        "\n",
        "for aluno in range(1, num_alunos+1):\n",
        "  #Float, tipagem explícita, para garantir número fracionário\n",
        "  n1 = float( input(\"Digite a nota 1 (com peso 2): \") )\n",
        "  n2 = float( input(\"Digite a nota 2 (com peso 3): \") )\n",
        "\n",
        "  #imprima o numero do aluno da vez\n",
        "  print(f\"\\naluno {aluno}:\")\n",
        "\n",
        "  #calculo de média ponderada\n",
        "  media = (n1 * 2 + n2 * 3) / 5\n",
        "\n",
        "  #impressão da média\n",
        "  print(f\"A média ponderada das notas é: {media:.2f}\")\n",
        "\n",
        "  #apresentar se o aluno foi aprovado ou não\n",
        "  if media >= 6:\n",
        "    print(\"aprovado\")\n",
        "  else:\n",
        "    if n1 >= 4 and n2 >=4:\n",
        "      print(\"prova final\")\n",
        "    else:\n",
        "      print(\"reprovado\")\n"
      ]
    }
  ]
}