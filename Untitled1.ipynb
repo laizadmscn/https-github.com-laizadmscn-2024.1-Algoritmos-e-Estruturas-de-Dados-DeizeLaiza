{
  "nbformat": 4,
  "nbformat_minor": 0,
  "metadata": {
    "colab": {
      "provenance": [],
      "authorship_tag": "ABX9TyOUJA6B69a9OV3ekb3HgcR0",
      "include_colab_link": true
    },
    "kernelspec": {
      "name": "python3",
      "display_name": "Python 3"
    },
    "language_info": {
      "name": "python"
    }
  },
  "cells": [
    {
      "cell_type": "markdown",
      "metadata": {
        "id": "view-in-github",
        "colab_type": "text"
      },
      "source": [
        "<a href=\"https://colab.research.google.com/github/laizadmscn/https-github.com-laizadmscn-2024.1-Algoritmos-e-Estruturas-de-Dados-DeizeLaiza/blob/main/Untitled1.ipynb\" target=\"_parent\"><img src=\"https://colab.research.google.com/assets/colab-badge.svg\" alt=\"Open In Colab\"/></a>"
      ]
    },
    {
      "cell_type": "markdown",
      "source": [
        "Calculadora de média pondera do IFRN"
      ],
      "metadata": {
        "id": "GPZXoA6PxTnm"
      }
    },
    {
      "cell_type": "code",
      "source": [
        "print(\"Calculadora de média ponderada do IFRN\")\n",
        "#Float, tipagem explícita, para garantir número fracionário\n",
        "n1 = float( input(\"Digite a nota 1 (com peso 2): \") )\n",
        "n2 = float( input(\"Digite a nota 2 (com peso 3): \") )\n",
        "\n",
        "#calculo de média ponderada\n",
        "media = (n1 * 2 + n2 * 3) / 5\n",
        "\n",
        "#impressão da média\n",
        "print(f\"A média ponderada das notas é: {media:.2f}\")\n",
        "\n",
        "#impressão da média\n",
        "print(f\"A média ponderada das notas é: {media:.3f}\")\n",
        "\n",
        "#impressão da média sem formatação\n",
        "print(\"A média ponderada das notas é: \", media)"
      ],
      "metadata": {
        "colab": {
          "base_uri": "https://localhost:8080/"
        },
        "id": "7JP4smBZxeT9",
        "outputId": "5136227f-b7a9-4eb6-af50-4fc06362c6a7"
      },
      "execution_count": 6,
      "outputs": [
        {
          "output_type": "stream",
          "name": "stdout",
          "text": [
            "Calculadora de média ponderada do IFRN\n",
            "Digite a nota 1 (com peso 2): 5.6\n",
            "Digite a nota 2 (com peso 3): 4.8\n",
            "A média ponderada das notas é: 5.12\n",
            "A média ponderada das notas é: 5.120\n",
            "A média ponderada das notas é:  5.119999999999999\n"
          ]
        }
      ]
    }
  ]
}