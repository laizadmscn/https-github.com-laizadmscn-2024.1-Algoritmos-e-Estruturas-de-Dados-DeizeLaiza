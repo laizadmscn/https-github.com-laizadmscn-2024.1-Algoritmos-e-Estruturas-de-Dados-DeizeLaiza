{
  "nbformat": 4,
  "nbformat_minor": 0,
  "metadata": {
    "colab": {
      "provenance": [],
      "include_colab_link": true
    },
    "kernelspec": {
      "name": "python3",
      "display_name": "Python 3"
    },
    "language_info": {
      "name": "python"
    }
  },
  "cells": [
    {
      "cell_type": "markdown",
      "metadata": {
        "id": "view-in-github",
        "colab_type": "text"
      },
      "source": [
        "<a href=\"https://colab.research.google.com/github/laizadmscn/https-github.com-laizadmscn-2024.1-Algoritmos-e-Estruturas-de-Dados-DeizeLaiza/blob/main/trabalho_ete_.ipynb\" target=\"_parent\"><img src=\"https://colab.research.google.com/assets/colab-badge.svg\" alt=\"Open In Colab\"/></a>"
      ]
    },
    {
      "cell_type": "code",
      "source": [
        "print('Seja bem-vindo(a) ao Fiscal Append! Insira as informações necessárias.')\n",
        "print(\"Olá, fiscal\")\n",
        "\n",
        "# Lista para armazenar os dados das indústrias\n",
        "dados_industrias = []\n",
        "\n",
        "while True:\n",
        "    dados_novos = input(\"Você quer inserir novos dados? (s/n): \")\n",
        "\n",
        "    if dados_novos == \"s\":\n",
        "        industria = input(\"Qual o nome da indústria? \")\n",
        "        DBOi = float(input(\"Qual valor de DBO inicial? \"))\n",
        "        DBOf = float(input(\"Qual valor de DBO final? \"))\n",
        "        eficiencia = ((DBOi - DBOf) / DBOi) * 100\n",
        "\n",
        "        # Armazenar os dados em um dicionário e adicionar à lista\n",
        "        dados_industrias.append({\n",
        "            \"industria\": industria,\n",
        "            \"eficiencia\": eficiencia\n",
        "        })\n",
        "\n",
        "        if eficiencia >= 60:\n",
        "            print(\"Eficiencia adequada\")\n",
        "        else:\n",
        "            print(\"Eficiencia inadequada\")\n",
        "\n",
        "    elif dados_novos == \"n\":\n",
        "        dados_antigos = input(\"Você quer verificar dados antigos? (s/n): \")\n",
        "        if dados_antigos == \"s\":\n",
        "            industria = input(\"Qual o nome da indústria? \")\n",
        "\n",
        "            # Procurar a indústria na lista de dados\n",
        "            industria_encontrada = False\n",
        "            for dados in dados_industrias:\n",
        "                if dados[\"industria\"] == industria:\n",
        "                    print(f\"Eficiencia da indústria {industria}: {dados['eficiencia']}%\")\n",
        "                    industria_encontrada = True\n",
        "                    break\n",
        "\n",
        "            if not industria_encontrada:\n",
        "                print(\"Indústria não encontrada.\")\n",
        "\n",
        "    elif dados_novos == \"q\":\n",
        "        print(\"Saindo do programa...\")\n",
        "        break\n",
        "\n",
        "    else:\n",
        "        print(\"Opção inválida. Por favor, insira 's', 'n' ou 'q'.\")\n",
        "\n"
      ],
      "metadata": {
        "id": "KJW14m_aj4aD",
        "colab": {
          "base_uri": "https://localhost:8080/"
        },
        "outputId": "0679886a-8fb4-492d-d8ef-99fdf3dd31b6"
      },
      "execution_count": null,
      "outputs": [
        {
          "output_type": "stream",
          "name": "stdout",
          "text": [
            "Seja bem-vindo(a) ao Fiscal Append! Insira as informações necessárias.\n",
            "Olá, fiscal\n",
            "Você quer inserir novos dados? (s/n): s\n",
            "Qual o nome da indústria? guararapes\n",
            "Qual valor de DBO inicial? 500\n",
            "Qual valor de DBO final? 5\n",
            "Eficiencia adequada\n",
            "Você quer inserir novos dados? (s/n): s\n",
            "Qual o nome da indústria? guararapes\n",
            "Qual valor de DBO inicial? 500\n",
            "Qual valor de DBO final? 459\n",
            "Eficiencia inadequada\n",
            "Você quer inserir novos dados? (s/n): n\n",
            "Você quer verificar dados antigos? (s/n): s\n",
            "Qual o nome da indústria? guararapes\n",
            "Eficiencia da indústria guararapes: 99.0%\n"
          ]
        }
      ]
    },
    {
      "cell_type": "markdown",
      "source": [
        "Algoritmo fiscal de ETE"
      ],
      "metadata": {
        "id": "Qqq8h5YqHFYS"
      }
    },
    {
      "cell_type": "code",
      "source": [],
      "metadata": {
        "id": "dCXnTuchvoGp"
      },
      "execution_count": null,
      "outputs": []
    }
  ]
}