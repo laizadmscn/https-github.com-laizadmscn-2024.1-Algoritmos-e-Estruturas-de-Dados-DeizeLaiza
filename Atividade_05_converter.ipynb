{
  "nbformat": 4,
  "nbformat_minor": 0,
  "metadata": {
    "colab": {
      "provenance": [],
      "authorship_tag": "ABX9TyOxUS4pBBJv4EEEBYbZnGu/",
      "include_colab_link": true
    },
    "kernelspec": {
      "name": "python3",
      "display_name": "Python 3"
    },
    "language_info": {
      "name": "python"
    }
  },
  "cells": [
    {
      "cell_type": "markdown",
      "metadata": {
        "id": "view-in-github",
        "colab_type": "text"
      },
      "source": [
        "<a href=\"https://colab.research.google.com/github/laizadmscn/https-github.com-laizadmscn-2024.1-Algoritmos-e-Estruturas-de-Dados-DeizeLaiza/blob/main/Atividade_05_converter.ipynb\" target=\"_parent\"><img src=\"https://colab.research.google.com/assets/colab-badge.svg\" alt=\"Open In Colab\"/></a>"
      ]
    },
    {
      "cell_type": "code",
      "source": [
        "from google.colab import drive\n",
        "drive.mount('/content/drive')\n",
        "def converter_arquivo_para_maiusculas(arquivo_entrada, arquivo_saida):\n",
        "    try:\n",
        "        with open(arquivo_entrada, 'r') as entrada:\n",
        "            conteudo = entrada.read()\n",
        "\n",
        "        conteudo_maiusculas = conteudo.upper()\n",
        "\n",
        "        with open(arquivo_saida, 'w') as saida:\n",
        "            saida.write(conteudo_maiusculas)\n",
        "\n",
        "        print(f\"O conteúdo foi convertido para maiúsculas e salvo em {arquivo_saida}.\")\n",
        "\n",
        "    except FileNotFoundError:\n",
        "        print(\"Erro: O arquivo de entrada não foi encontrado.\")\n",
        "    except Exception as e:\n",
        "        print(f\"Ocorreu um erro: {e}\")\n",
        "\n",
        "converter_arquivo_para_maiusculas('/content/drive/MyDrive/Colab Notebooks/Atividade_05_algoritmo/teste.txt', 'saida.txt')\n"
      ],
      "metadata": {
        "colab": {
          "base_uri": "https://localhost:8080/"
        },
        "id": "0enf1wCuB5BI",
        "outputId": "0c5b2851-1fed-4bc8-9e9e-7dcd0271d995"
      },
      "execution_count": 13,
      "outputs": [
        {
          "output_type": "stream",
          "name": "stdout",
          "text": [
            "Drive already mounted at /content/drive; to attempt to forcibly remount, call drive.mount(\"/content/drive\", force_remount=True).\n",
            "O conteúdo foi convertido para maiúsculas e salvo em saida.txt.\n"
          ]
        }
      ]
    }
  ]
}