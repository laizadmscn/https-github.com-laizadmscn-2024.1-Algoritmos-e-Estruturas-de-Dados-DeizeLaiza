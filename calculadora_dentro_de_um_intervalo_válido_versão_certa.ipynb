{
  "nbformat": 4,
  "nbformat_minor": 0,
  "metadata": {
    "colab": {
      "provenance": [],
      "authorship_tag": "ABX9TyM1yAfpY7Gi7xEIxtlufnba",
      "include_colab_link": true
    },
    "kernelspec": {
      "name": "python3",
      "display_name": "Python 3"
    },
    "language_info": {
      "name": "python"
    }
  },
  "cells": [
    {
      "cell_type": "markdown",
      "metadata": {
        "id": "view-in-github",
        "colab_type": "text"
      },
      "source": [
        "<a href=\"https://colab.research.google.com/github/laizadmscn/https-github.com-laizadmscn-2024.1-Algoritmos-e-Estruturas-de-Dados-DeizeLaiza/blob/main/calculadora_dentro_de_um_intervalo_v%C3%A1lido_vers%C3%A3o_certa.ipynb\" target=\"_parent\"><img src=\"https://colab.research.google.com/assets/colab-badge.svg\" alt=\"Open In Colab\"/></a>"
      ]
    },
    {
      "cell_type": "code",
      "execution_count": 2,
      "metadata": {
        "colab": {
          "base_uri": "https://localhost:8080/"
        },
        "id": "FmC0LAAUEaxI",
        "outputId": "fc194f44-2b21-441a-bff6-9cfbc5888d3e"
      },
      "outputs": [
        {
          "output_type": "stream",
          "name": "stdout",
          "text": [
            "Calculadora de média ponderada do IFRN\n",
            "Digite a nota 1 (com peso 2): 12\n",
            "Por favor, insira uma nota válida entre 0 e 10.\n",
            "Digite a nota 1 (com peso 2): 9\n",
            "Digite a nota 2 (com peso 3): 7\n",
            "A média ponderada das notas é: 7.80\n",
            "Aprovado\n"
          ]
        }
      ],
      "source": [
        "print(\"Calculadora de média ponderada do IFRN\")\n",
        "\n",
        "def solicitar_nota(mensagem, peso):\n",
        "    while True:\n",
        "        try:\n",
        "            nota = float(input(mensagem))\n",
        "            if 0 <= nota <= 10:\n",
        "                return nota * peso\n",
        "            else:\n",
        "                print(\"Por favor, insira uma nota válida entre 0 e 10.\")\n",
        "        except ValueError:\n",
        "            print(\"Por favor, insira um número válido.\")\n",
        "\n",
        "n1 = solicitar_nota(\"Digite a nota 1 (com peso 2): \", 2)\n",
        "n2 = solicitar_nota(\"Digite a nota 2 (com peso 3): \", 3)\n",
        "\n",
        "media = (n1 + n2) / 5\n",
        "\n",
        "print(f\"A média ponderada das notas é: {media:.2f}\")\n",
        "\n",
        "if media >= 6:\n",
        "    print(\"Aprovado\")\n",
        "else:\n",
        "    if n1 >= 4 and n2 >= 4:\n",
        "        print(\"Prova final\")\n",
        "    else:\n",
        "        print(\"Reprovado\")\n"
      ]
    }
  ]
}