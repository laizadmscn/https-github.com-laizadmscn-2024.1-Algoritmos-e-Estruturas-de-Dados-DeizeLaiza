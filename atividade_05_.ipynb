{
  "nbformat": 4,
  "nbformat_minor": 0,
  "metadata": {
    "colab": {
      "provenance": [],
      "authorship_tag": "ABX9TyM8n6nzDVqqN4BLYBoPdvjV",
      "include_colab_link": true
    },
    "kernelspec": {
      "name": "python3",
      "display_name": "Python 3"
    },
    "language_info": {
      "name": "python"
    }
  },
  "cells": [
    {
      "cell_type": "markdown",
      "metadata": {
        "id": "view-in-github",
        "colab_type": "text"
      },
      "source": [
        "<a href=\"https://colab.research.google.com/github/laizadmscn/https-github.com-laizadmscn-2024.1-Algoritmos-e-Estruturas-de-Dados-DeizeLaiza/blob/main/atividade_05_.ipynb\" target=\"_parent\"><img src=\"https://colab.research.google.com/assets/colab-badge.svg\" alt=\"Open In Colab\"/></a>"
      ]
    },
    {
      "cell_type": "markdown",
      "source": [
        "1. Crie um programa que leia um número inteiro. Quando este for negativo,\n",
        "some-o com 100; quando positivo, apenas faça sua impressão."
      ],
      "metadata": {
        "id": "DEFUaGByGWiH"
      }
    },
    {
      "cell_type": "code",
      "source": [
        "número = int(input(\"Insira um número inteiro: \"))\n",
        "\n",
        "if número >= 0:\n",
        "  print(\"O número digitado é:\", número)\n",
        "else:\n",
        "  print(\"A soma do número {} com 100 dá:{}\".format(número, (número + 100)))"
      ],
      "metadata": {
        "colab": {
          "base_uri": "https://localhost:8080/"
        },
        "id": "H59qU8PMGbAb",
        "outputId": "33318f82-d3c6-450f-ceb9-59a1e0c1d668"
      },
      "execution_count": 3,
      "outputs": [
        {
          "output_type": "stream",
          "name": "stdout",
          "text": [
            "Insira um número inteiro: -100\n",
            "A soma do número -100 com 100 dá:0\n"
          ]
        }
      ]
    },
    {
      "cell_type": "markdown",
      "source": [
        "2. Crie um programa que leia o código de um curso do IFRN, Campus\n",
        "Natal Central, e indique o nome do curso de acordo com a tabela abaixo. Se o\n",
        "programa ler um código inexistente no Instituto, uma mensagem de alerta deve\n",
        "ser informada ao usuário."
      ],
      "metadata": {
        "id": "bh7v6FJkHJNV"
      }
    },
    {
      "cell_type": "code",
      "source": [
        "cod_cur = {\"1\": \"Técnico em Informática Subseqüente\", \"2\": \"Técnico em Informática EJA\", \"3\": \"Técnico em Cooperativismo\", \"4\": \"Técnico em Cooperativismo EJA\",\n",
        "\"5\": \"Licenciatura em Física\"}\n",
        "\n",
        "cod = input(\"Digite o código do curso:\")\n",
        "\n",
        "if cod in cod_cur:\n",
        "  print(\"O curso do  IFRN (Campus Natal Central) com código {} é {}.\".format(cod, cod_cur[cod]))\n",
        "else:\n",
        "  print(\"Aviso: código inexistente, tente novamente!\")"
      ],
      "metadata": {
        "colab": {
          "base_uri": "https://localhost:8080/"
        },
        "id": "oxq4cw4-HU1_",
        "outputId": "788f3315-2796-4117-ef56-80b399d1e6a7"
      },
      "execution_count": 4,
      "outputs": [
        {
          "output_type": "stream",
          "name": "stdout",
          "text": [
            "Digite o código do curso:2\n",
            "O curso do  IFRN (Campus Natal Central) com código 2 é Técnico em Informática EJA.\n"
          ]
        }
      ]
    },
    {
      "cell_type": "markdown",
      "source": [
        "3. Leia duas strings e informe o conteúdo delas\n",
        "seguido do seu comprimento."
      ],
      "metadata": {
        "id": "A4wKbsxVHj7-"
      }
    },
    {
      "cell_type": "code",
      "source": [
        "str1 = str(input(\"Digite uma frase:\"))\n",
        "print(\"o tamanho da primeira string: '{}' é {}\".format(str1, len(str1)))\n",
        "str2 = str(input(\"Digite uma segunda frase:\"))\n",
        "print(\"O tamanho da segunda string: '{}' é: {}\".format(str2, len(str2)))"
      ],
      "metadata": {
        "colab": {
          "base_uri": "https://localhost:8080/"
        },
        "id": "SqCMsfWhIAVb",
        "outputId": "90028b18-78e7-4656-a0d6-f85e14836277"
      },
      "execution_count": 6,
      "outputs": [
        {
          "output_type": "stream",
          "name": "stdout",
          "text": [
            "Digite uma frase:É isso! Vivências...\n",
            "o tamanho da primeira string: 'É isso! Vivências...' é 20\n",
            "Digite uma segunda frase:Okay, obrigada!\n",
            "O tamanho da segunda string: 'Okay, obrigada!' é: 15\n"
          ]
        }
      ]
    },
    {
      "cell_type": "markdown",
      "source": [
        "a. Crie uma variável res1 que informa se as duas\n",
        "strings possuem o mesmo comprimento."
      ],
      "metadata": {
        "id": "hlh23S6zHn0I"
      }
    },
    {
      "cell_type": "code",
      "source": [
        "\n",
        "if len(str1) == len(str2):\n",
        "  print(\"As duas strings tem o mesmo tamanho\")\n",
        "else:\n",
        "  print(\"As duas strings {} e {} tem tamanhos diferentes\".format(str1, str2))"
      ],
      "metadata": {
        "colab": {
          "base_uri": "https://localhost:8080/"
        },
        "id": "eaMUMCwbIlOy",
        "outputId": "31671521-424c-4294-bc1c-1ed128e16cf1"
      },
      "execution_count": 8,
      "outputs": [
        {
          "output_type": "stream",
          "name": "stdout",
          "text": [
            "As duas strings É isso! Vivências... e Okay, obrigada! tem tamanhos diferentes\n"
          ]
        }
      ]
    },
    {
      "cell_type": "markdown",
      "source": [
        "b. Crie uma variável res2 que informa se as duasstrings são iguais ou diferentes no conteúdo."
      ],
      "metadata": {
        "id": "M8cvlgtPH23q"
      }
    },
    {
      "cell_type": "code",
      "source": [
        "res1 = str1 == str2\n",
        "\n",
        "if res1:\n",
        "  print(\"As duas strings '{}' e '{}', são iguais\".format(str1, str2))\n",
        "else:\n",
        "  print(\"As duas strings '{}' e '{}' são diferentes\".format(str1, str2))"
      ],
      "metadata": {
        "colab": {
          "base_uri": "https://localhost:8080/"
        },
        "id": "48-Z0CEmHtfU",
        "outputId": "1d7a4fa2-16d3-4c4a-a36d-87511fb3d222"
      },
      "execution_count": 9,
      "outputs": [
        {
          "output_type": "stream",
          "name": "stdout",
          "text": [
            "As duas strings 'É isso! Vivências...' e 'Okay, obrigada!' são diferentes\n"
          ]
        }
      ]
    },
    {
      "cell_type": "markdown",
      "source": [
        "4. Faça um programa que ler uma string e cortaos dois primeiros caracteres e os dois últimos"
      ],
      "metadata": {
        "id": "-TSyzUtkJFZ0"
      }
    },
    {
      "cell_type": "code",
      "source": [
        "str1 = input(\"Digite uma frase:\")\n",
        "cont = len(str1)\n",
        "print(\"Subtraindo as duas primeiras e as duas últimas letras a string '{}'({}), fica '{}'\".format(str1 ,cont, str1 [2 : -2]))\n",
        ""
      ],
      "metadata": {
        "colab": {
          "base_uri": "https://localhost:8080/"
        },
        "id": "25QTM3zIJMtm",
        "outputId": "824d185a-237f-450b-fedc-495165b343cb"
      },
      "execution_count": 10,
      "outputs": [
        {
          "output_type": "stream",
          "name": "stdout",
          "text": [
            "Digite uma frase:Aonde a Agatha for, vai ter agathers, vey!\n",
            "Subtraindo as duas primeiras e as duas últimas letras a string 'Aonde a Agatha for, vai ter agathers, vey!'(42), fica 'nde a Agatha for, vai ter agathers, ve'\n"
          ]
        }
      ]
    }
  ]
}