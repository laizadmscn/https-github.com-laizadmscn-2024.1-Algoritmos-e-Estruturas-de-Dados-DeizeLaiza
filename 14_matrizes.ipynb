{
  "nbformat": 4,
  "nbformat_minor": 0,
  "metadata": {
    "colab": {
      "provenance": [],
      "authorship_tag": "ABX9TyOM39eMG51PAVk+f3OMmHjt",
      "include_colab_link": true
    },
    "kernelspec": {
      "name": "python3",
      "display_name": "Python 3"
    },
    "language_info": {
      "name": "python"
    }
  },
  "cells": [
    {
      "cell_type": "markdown",
      "metadata": {
        "id": "view-in-github",
        "colab_type": "text"
      },
      "source": [
        "<a href=\"https://colab.research.google.com/github/laizadmscn/https-github.com-laizadmscn-2024.1-Algoritmos-e-Estruturas-de-Dados-DeizeLaiza/blob/main/14_matrizes.ipynb\" target=\"_parent\"><img src=\"https://colab.research.google.com/assets/colab-badge.svg\" alt=\"Open In Colab\"/></a>"
      ]
    },
    {
      "cell_type": "code",
      "source": [
        "M = [1,2,3,4,5,6] #(unidimensional)\n",
        "print(M)"
      ],
      "metadata": {
        "colab": {
          "base_uri": "https://localhost:8080/"
        },
        "id": "PRV0Fbtcjt4o",
        "outputId": "3663f325-db4b-49ff-af5f-48f16a0cd704"
      },
      "execution_count": 4,
      "outputs": [
        {
          "output_type": "stream",
          "name": "stdout",
          "text": [
            "[1, 2, 3, 4, 5, 6]\n"
          ]
        }
      ]
    },
    {
      "cell_type": "code",
      "source": [
        "M = [[1,1,1],[1,1,1],[1,1,1]]\n",
        "print(M)\n",
        "M = [[1] * 3] * 3 #Bidimensional\n",
        "print(M)"
      ],
      "metadata": {
        "colab": {
          "base_uri": "https://localhost:8080/"
        },
        "id": "M0UFyj0Ya8vo",
        "outputId": "c0c367eb-85f0-4a9e-d0c5-1f00ebebab1f"
      },
      "execution_count": 6,
      "outputs": [
        {
          "output_type": "stream",
          "name": "stdout",
          "text": [
            "[[1, 1, 1], [1, 1, 1], [1, 1, 1]]\n",
            "[[1, 1, 1], [1, 1, 1], [1, 1, 1]]\n"
          ]
        }
      ]
    },
    {
      "cell_type": "code",
      "execution_count": 1,
      "metadata": {
        "colab": {
          "base_uri": "https://localhost:8080/"
        },
        "id": "pGNS2DC5ab4q",
        "outputId": "189e61e0-6947-480e-bcf1-df9e62a3d413"
      },
      "outputs": [
        {
          "output_type": "stream",
          "name": "stdout",
          "text": [
            "[[1, 1, 1, 1, 1]]\n"
          ]
        }
      ],
      "source": [
        "M = [ [1 for i in range (5)]]\n",
        "print(M)"
      ]
    },
    {
      "cell_type": "code",
      "source": [
        "#como uma matriz\n",
        "M = [ [1 for i in range(5)] for j in range(5)]\n",
        "print(M)"
      ],
      "metadata": {
        "colab": {
          "base_uri": "https://localhost:8080/"
        },
        "id": "sUEJHnvWbSbi",
        "outputId": "dbe66ae9-d71a-448f-ecaf-c7192b514d6a"
      },
      "execution_count": 3,
      "outputs": [
        {
          "output_type": "stream",
          "name": "stdout",
          "text": [
            "[[1, 1, 1, 1, 1], [1, 1, 1, 1, 1], [1, 1, 1, 1, 1], [1, 1, 1, 1, 1], [1, 1, 1, 1, 1]]\n"
          ]
        }
      ]
    },
    {
      "cell_type": "code",
      "source": [
        "#imprimir lista aninhada\n",
        "m = [[1 for i in range(5)] for j in range(5)]\n",
        "print(m)\n",
        "print(len(m))\n",
        "cont = 0\n",
        "for i in range(len(m)):\n",
        "  for j in range(len(m[i])):\n",
        "    cont += 1\n",
        "print(m)"
      ],
      "metadata": {
        "colab": {
          "base_uri": "https://localhost:8080/"
        },
        "id": "sZ4-6ohZkJ83",
        "outputId": "b1f995dc-e606-4684-b7a2-d3e5cdb5eb31"
      },
      "execution_count": 9,
      "outputs": [
        {
          "output_type": "stream",
          "name": "stdout",
          "text": [
            "[[1, 1, 1, 1, 1], [1, 1, 1, 1, 1], [1, 1, 1, 1, 1], [1, 1, 1, 1, 1], [1, 1, 1, 1, 1]]\n",
            "5\n",
            "[[1, 1, 1, 1, 1], [1, 1, 1, 1, 1], [1, 1, 1, 1, 1], [1, 1, 1, 1, 1], [1, 1, 1, 1, 1]]\n"
          ]
        }
      ]
    }
  ]
}