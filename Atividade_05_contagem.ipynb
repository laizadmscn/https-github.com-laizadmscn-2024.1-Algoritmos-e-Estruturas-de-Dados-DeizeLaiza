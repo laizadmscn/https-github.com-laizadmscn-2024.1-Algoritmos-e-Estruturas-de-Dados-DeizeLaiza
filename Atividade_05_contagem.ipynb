{
  "nbformat": 4,
  "nbformat_minor": 0,
  "metadata": {
    "colab": {
      "provenance": [],
      "authorship_tag": "ABX9TyP6RjjpL/T5HO4tWqFxNKHv",
      "include_colab_link": true
    },
    "kernelspec": {
      "name": "python3",
      "display_name": "Python 3"
    },
    "language_info": {
      "name": "python"
    }
  },
  "cells": [
    {
      "cell_type": "markdown",
      "metadata": {
        "id": "view-in-github",
        "colab_type": "text"
      },
      "source": [
        "<a href=\"https://colab.research.google.com/github/laizadmscn/https-github.com-laizadmscn-2024.1-Algoritmos-e-Estruturas-de-Dados-DeizeLaiza/blob/main/Atividade_05_contagem.ipynb\" target=\"_parent\"><img src=\"https://colab.research.google.com/assets/colab-badge.svg\" alt=\"Open In Colab\"/></a>"
      ]
    },
    {
      "cell_type": "code",
      "execution_count": 8,
      "metadata": {
        "id": "Ftrf1wO7xcX1",
        "colab": {
          "base_uri": "https://localhost:8080/"
        },
        "outputId": "bdc4d304-8c4e-46d6-b685-996bec0348af"
      },
      "outputs": [
        {
          "output_type": "stream",
          "name": "stdout",
          "text": [
            "Drive already mounted at /content/drive; to attempt to forcibly remount, call drive.mount(\"/content/drive\", force_remount=True).\n",
            "1\n"
          ]
        }
      ],
      "source": [
        "#função que conte o número de ocorrências de uma palavra específica em um arquivo de texto.\n",
        "from google.colab import drive\n",
        "drive.mount('/content/drive')\n",
        "def contar_palavra(palavra, arquivo):\n",
        "    with open(arquivo, 'r') as arquivo:\n",
        "        conteudo = arquivo.read()\n",
        "        ocorrencias = conteudo.count(palavra)\n",
        "        return ocorrencias\n",
        "\n",
        "print(contar_palavra('Python', '/content/drive/MyDrive/Colab Notebooks/Atividade_05_algoritmo/entrada.txt'))"
      ]
    }
  ]
}