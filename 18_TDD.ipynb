{
  "nbformat": 4,
  "nbformat_minor": 0,
  "metadata": {
    "colab": {
      "provenance": [],
      "authorship_tag": "ABX9TyMO2QMMFNNsmtMkV36bG5xR",
      "include_colab_link": true
    },
    "kernelspec": {
      "name": "python3",
      "display_name": "Python 3"
    },
    "language_info": {
      "name": "python"
    }
  },
  "cells": [
    {
      "cell_type": "markdown",
      "metadata": {
        "id": "view-in-github",
        "colab_type": "text"
      },
      "source": [
        "<a href=\"https://colab.research.google.com/github/laizadmscn/https-github.com-laizadmscn-2024.1-Algoritmos-e-Estruturas-de-Dados-DeizeLaiza/blob/main/18_TDD.ipynb\" target=\"_parent\"><img src=\"https://colab.research.google.com/assets/colab-badge.svg\" alt=\"Open In Colab\"/></a>"
      ]
    },
    {
      "cell_type": "markdown",
      "source": [
        "**TDD**\n",
        "\n",
        "Test-Driven Devolopment (TDD), ou Desenvolvimento Orientado a Testes, é uma metodologia de desenvolvimento de software que enfatiza a criação e execução de testes antes mesmo do desenvolvimento do código."
      ],
      "metadata": {
        "id": "Mbv2U3J5nAOe"
      }
    },
    {
      "cell_type": "code",
      "execution_count": null,
      "metadata": {
        "id": "UPVUquHYewU7"
      },
      "outputs": [],
      "source": [
        "#Programa para avaliar a saída dado uma função de entrada\n",
        "import random\n",
        "\n",
        "#Programa para avaliar a saída de uma função dado uma entrada\n",
        "import random\n",
        "\n",
        "#esqueleto de uma questão para gerar uma lista de 28 números aleatórios, entre 1 e 100\n",
        "def gerar_lista_aleatoria():\n",
        "  pass\n",
        "\n",
        "#Esqueleto de uma função para embaralhar a lista\n",
        "def embaralhar_lista():\n",
        "  pass\n"
      ]
    }
  ]
}