{
  "nbformat": 4,
  "nbformat_minor": 0,
  "metadata": {
    "colab": {
      "provenance": [],
      "authorship_tag": "ABX9TyNABHRvHQM8G7wkn2FnO8VD",
      "include_colab_link": true
    },
    "kernelspec": {
      "name": "python3",
      "display_name": "Python 3"
    },
    "language_info": {
      "name": "python"
    }
  },
  "cells": [
    {
      "cell_type": "markdown",
      "metadata": {
        "id": "view-in-github",
        "colab_type": "text"
      },
      "source": [
        "<a href=\"https://colab.research.google.com/github/laizadmscn/https-github.com-laizadmscn-2024.1-Algoritmos-e-Estruturas-de-Dados-DeizeLaiza/blob/main/05_Qualidade_da_%C3%A1gua.ipynb\" target=\"_parent\"><img src=\"https://colab.research.google.com/assets/colab-badge.svg\" alt=\"Open In Colab\"/></a>"
      ]
    },
    {
      "cell_type": "code",
      "execution_count": null,
      "metadata": {
        "colab": {
          "base_uri": "https://localhost:8080/"
        },
        "id": "D5R0Y1G-1YWh",
        "outputId": "28c73e25-974b-4e14-9f14-948571f4504e"
      },
      "outputs": [
        {
          "metadata": {
            "tags": null
          },
          "name": "stdout",
          "output_type": "stream",
          "text": [
            "Insira o nível de cloro da água para verificar se está dentro do padrão aceito: \n",
            "Atenção: Onível de cloro esta abaixo do padrão aceitavel\n",
            "O nível de cloro está dentro dos padrões aceitaveis \n",
            "Atenção: O nível de cloro está acima dos padrões aceitaveis \n"
          ]
        }
      ],
      "source": [
        "#Programa de controle de qualidade da água\n",
        "print(\"Insira o nível de cloro da água para verificar se está dentro do padrão aceito: \")\n",
        "paradinha = True\n",
        "#paradinha = 1 #outro exemplo\n",
        "\n",
        "while paradinha: #loop infinito // infinite loop\n",
        "  nível_cloro = float(input(\"Digite o nível de cloro em mg/L: \"))\n",
        "  #verificando se o 0.2 > nível_cloro\n",
        "  if nível_cloro < 0.2:\n",
        "    print(\"Atenção: Onível de cloro esta abaixo do padrão aceitavel\")\n",
        "  elif nível_cloro > 2.0:\n",
        "    print(\"Atenção: O nível de cloro está acima dos padrões aceitaveis \")\n",
        "  else:\n",
        "    print(\"O nível de cloro está dentro dos padrões aceitaveis \")\n",
        "paradinha = False"
      ]
    }
  ]
}