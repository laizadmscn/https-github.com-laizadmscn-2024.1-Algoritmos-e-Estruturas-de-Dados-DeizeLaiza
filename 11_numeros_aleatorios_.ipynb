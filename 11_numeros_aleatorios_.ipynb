{
  "nbformat": 4,
  "nbformat_minor": 0,
  "metadata": {
    "colab": {
      "provenance": [],
      "authorship_tag": "ABX9TyOnMZk21qKmw3zIZD1H69p7",
      "include_colab_link": true
    },
    "kernelspec": {
      "name": "python3",
      "display_name": "Python 3"
    },
    "language_info": {
      "name": "python"
    }
  },
  "cells": [
    {
      "cell_type": "markdown",
      "metadata": {
        "id": "view-in-github",
        "colab_type": "text"
      },
      "source": [
        "<a href=\"https://colab.research.google.com/github/laizadmscn/https-github.com-laizadmscn-2024.1-Algoritmos-e-Estruturas-de-Dados-DeizeLaiza/blob/main/11_numeros_aleatorios_.ipynb\" target=\"_parent\"><img src=\"https://colab.research.google.com/assets/colab-badge.svg\" alt=\"Open In Colab\"/></a>"
      ]
    },
    {
      "cell_type": "markdown",
      "source": [
        "Escpo de variáveis"
      ],
      "metadata": {
        "id": "JHxy-99UobFT"
      }
    },
    {
      "cell_type": "code",
      "execution_count": 1,
      "metadata": {
        "colab": {
          "base_uri": "https://localhost:8080/"
        },
        "id": "y9_RWtmDj9QL",
        "outputId": "cba90137-d30e-4642-857a-e2c7cef998d7"
      },
      "outputs": [
        {
          "output_type": "stream",
          "name": "stdout",
          "text": [
            "a antes de mudar:  5\n",
            "a dentro da função:  10\n",
            "a depois de mudar:  5\n"
          ]
        }
      ],
      "source": [
        "a=5\n",
        "def muda_e_imprime():\n",
        "  a=10\n",
        "  print('a dentro da função: ', a) #a=10\n",
        "\n",
        "print('a antes de mudar: ', a) #a=5\n",
        "muda_e_imprime() #chamada da funcao, a=10\n",
        "print('a depois de mudar: ', a) #a=5"
      ]
    },
    {
      "cell_type": "code",
      "source": [
        "a=5\n",
        "def muda_e_imprime():\n",
        "  global a #declara que a é uma variável global\n",
        "  a=10\n",
        "  print('a dentro da função: ', a) #a=10\n",
        "\n",
        "print('a antes de mudar: ', a) #a=5\n",
        "muda_e_imprime() #chamada da funcao, a=10\n",
        "print('a depois de mudar: ', a) #a=10"
      ],
      "metadata": {
        "colab": {
          "base_uri": "https://localhost:8080/"
        },
        "id": "GTTTmAboomqL",
        "outputId": "579ac834-59c6-436f-b89d-1413a9da4c77"
      },
      "execution_count": 2,
      "outputs": [
        {
          "output_type": "stream",
          "name": "stdout",
          "text": [
            "a antes de mudar:  5\n",
            "a dentro da função:  10\n",
            "a depois de mudar:  10\n"
          ]
        }
      ]
    },
    {
      "cell_type": "markdown",
      "source": [
        "numeros aleatorios"
      ],
      "metadata": {
        "id": "H_fj_iWqtqZw"
      }
    },
    {
      "cell_type": "code",
      "source": [
        "import random\n",
        "\n",
        "print(random.randint(1, 100))"
      ],
      "metadata": {
        "colab": {
          "base_uri": "https://localhost:8080/"
        },
        "id": "-DoAfoavt4Da",
        "outputId": "75607956-aac2-4195-c70c-869f9f8050ca"
      },
      "execution_count": 3,
      "outputs": [
        {
          "output_type": "stream",
          "name": "stdout",
          "text": [
            "69\n"
          ]
        }
      ]
    },
    {
      "cell_type": "code",
      "source": [
        "alunos = ['Daniel', 'Joao', 'Beatriz', 'Maria']\n",
        "print(random.choice(alunos))\n",
        "print(random.choice(alunos))\n",
        "print(random.choice(alunos))"
      ],
      "metadata": {
        "colab": {
          "base_uri": "https://localhost:8080/"
        },
        "id": "viKh1Uypt6L4",
        "outputId": "5430b222-19f3-4602-b1ff-f47c93eaf8ca"
      },
      "execution_count": 4,
      "outputs": [
        {
          "output_type": "stream",
          "name": "stdout",
          "text": [
            "Daniel\n",
            "Maria\n",
            "Daniel\n"
          ]
        }
      ]
    },
    {
      "cell_type": "code",
      "source": [
        "alunos = ['Daniel', 'Joao', 'Beatriz', 'Maria']\n",
        "print(alunos)\n",
        "random.shuffle(alunos)\n",
        "print(alunos)"
      ],
      "metadata": {
        "colab": {
          "base_uri": "https://localhost:8080/"
        },
        "id": "Q_NMHW0fuAyg",
        "outputId": "0bb70cd0-35ce-4949-9bab-cf9dc8566d22"
      },
      "execution_count": 5,
      "outputs": [
        {
          "output_type": "stream",
          "name": "stdout",
          "text": [
            "['Daniel', 'Joao', 'Beatriz', 'Maria']\n",
            "['Joao', 'Daniel', 'Maria', 'Beatriz']\n"
          ]
        }
      ]
    },
    {
      "cell_type": "markdown",
      "source": [
        "Função para embaralhar letras de uma palavra"
      ],
      "metadata": {
        "id": "Fqo89u-0uGLA"
      }
    },
    {
      "cell_type": "code",
      "source": [
        "def embaralha(palavra):\n",
        "  lista = list(palavra)\n",
        "  random.shuffle(lista)\n",
        "  return ''.join(lista)\n",
        "\n",
        "palavra = embaralha('programacao')\n",
        "print(palavra)"
      ],
      "metadata": {
        "colab": {
          "base_uri": "https://localhost:8080/"
        },
        "id": "C_xDRJLWuHHJ",
        "outputId": "3683c6e3-260d-458b-9fa5-42b8264f0a77"
      },
      "execution_count": 6,
      "outputs": [
        {
          "output_type": "stream",
          "name": "stdout",
          "text": [
            "rgaapcoraom\n"
          ]
        }
      ]
    }
  ]
}